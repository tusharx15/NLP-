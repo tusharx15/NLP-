{
 "cells": [
  {
   "cell_type": "markdown",
   "id": "84e7ff6e",
   "metadata": {},
   "source": [
    "# REGEX \n",
    "$27/06/2023$"
   ]
  },
  {
   "cell_type": "markdown",
   "id": "5a550605",
   "metadata": {},
   "source": [
    "$Searching for Basic Patterns$"
   ]
  },
  {
   "cell_type": "code",
   "execution_count": 3,
   "id": "8330115c",
   "metadata": {},
   "outputs": [
    {
     "data": {
      "text/plain": [
       "True"
      ]
     },
     "execution_count": 3,
     "metadata": {},
     "output_type": "execute_result"
    }
   ],
   "source": [
    "text = \"The agent's phone number is 408-555-1234. Call soon!\"\n",
    "'phone' in text"
   ]
  },
  {
   "cell_type": "markdown",
   "id": "68bc3c8d",
   "metadata": {},
   "source": [
    "$re.search()$\n",
    "$takes the pattern,scan the text, and then returns a Match object$"
   ]
  },
  {
   "cell_type": "code",
   "execution_count": 4,
   "id": "2a0c02f9",
   "metadata": {},
   "outputs": [],
   "source": [
    "import re\n",
    "pattern = \"Phone\"\n",
    "re.search(pattern,text)"
   ]
  },
  {
   "cell_type": "code",
   "execution_count": 5,
   "id": "ce41dd6f",
   "metadata": {},
   "outputs": [
    {
     "name": "stdout",
     "output_type": "stream",
     "text": [
      "None\n"
     ]
    }
   ],
   "source": [
    "match = re.search(pattern,text)\n",
    "print(match)"
   ]
  },
  {
   "cell_type": "code",
   "execution_count": null,
   "id": "7f805a1c",
   "metadata": {},
   "outputs": [],
   "source": [
    "# If no pattern is found, a None is returned."
   ]
  },
  {
   "cell_type": "code",
   "execution_count": 7,
   "id": "14c860ac",
   "metadata": {},
   "outputs": [
    {
     "name": "stdout",
     "output_type": "stream",
     "text": [
      "<re.Match object; span=(12, 17), match='phone'>\n"
     ]
    }
   ],
   "source": [
    "import re\n",
    "pattern = \"phone\"\n",
    "re.search(pattern,text)\n",
    "match = re.search(pattern,text)\n",
    "print(match)"
   ]
  },
  {
   "cell_type": "markdown",
   "id": "741b14e6",
   "metadata": {},
   "source": [
    "### Location of the pattern in the given text"
   ]
  },
  {
   "cell_type": "code",
   "execution_count": 9,
   "id": "4e8be819",
   "metadata": {},
   "outputs": [
    {
     "name": "stdout",
     "output_type": "stream",
     "text": [
      "(12, 17)\n",
      "12\n",
      "17\n"
     ]
    }
   ],
   "source": [
    "print(match.span())\n",
    "print(match.start())\n",
    "print(match.end())"
   ]
  },
  {
   "cell_type": "markdown",
   "id": "cb45ac47",
   "metadata": {},
   "source": [
    "$But what if the pattern occurs more than once?$"
   ]
  },
  {
   "cell_type": "code",
   "execution_count": 12,
   "id": "6e143ccd",
   "metadata": {},
   "outputs": [
    {
     "data": {
      "text/plain": [
       "(3, 8)"
      ]
     },
     "execution_count": 12,
     "metadata": {},
     "output_type": "execute_result"
    }
   ],
   "source": [
    "text = \"my phone is a new phone\"\n",
    "match= re.search('phone',text)\n",
    "match.span() # here it matches only the fisrt instane."
   ]
  },
  {
   "cell_type": "markdown",
   "id": "4bc5d8a5",
   "metadata": {},
   "source": [
    "$re.findall()$"
   ]
  },
  {
   "cell_type": "code",
   "execution_count": 14,
   "id": "d413a9aa",
   "metadata": {},
   "outputs": [
    {
     "name": "stdout",
     "output_type": "stream",
     "text": [
      "['phone', 'phone']\n"
     ]
    },
    {
     "data": {
      "text/plain": [
       "2"
      ]
     },
     "execution_count": 14,
     "metadata": {},
     "output_type": "execute_result"
    }
   ],
   "source": [
    "# If we wanted a list of all matches, we can use re.findall() \n",
    "matches = re.findall('phone',text)\n",
    "print(matches)\n",
    "len(matches)"
   ]
  },
  {
   "cell_type": "code",
   "execution_count": 15,
   "id": "a05672a6",
   "metadata": {},
   "outputs": [
    {
     "name": "stdout",
     "output_type": "stream",
     "text": [
      "(3, 8)\n",
      "(18, 23)\n"
     ]
    }
   ],
   "source": [
    "for match in re.finditer('phone',text):\n",
    "    print(match.span())"
   ]
  },
  {
   "cell_type": "markdown",
   "id": "0000e092",
   "metadata": {},
   "source": [
    "$re.split()$"
   ]
  },
  {
   "cell_type": "code",
   "execution_count": 16,
   "id": "15931b31",
   "metadata": {},
   "outputs": [
    {
     "name": "stdout",
     "output_type": "stream",
     "text": [
      "['Neha ', ' well and Rahul also ', ' well.']\n"
     ]
    }
   ],
   "source": [
    "string = 'Neha studied well and Rahul also studied well.'\n",
    "pattern = 'studied'\n",
    "result = re.split(pattern,string)\n",
    "print(result)"
   ]
  },
  {
   "cell_type": "markdown",
   "id": "87309404",
   "metadata": {},
   "source": [
    "$re.sub()$"
   ]
  },
  {
   "cell_type": "code",
   "execution_count": 18,
   "id": "448787c9",
   "metadata": {},
   "outputs": [
    {
     "name": "stdout",
     "output_type": "stream",
     "text": [
      "How-are-you-today?\n"
     ]
    }
   ],
   "source": [
    "string = \"How are you today?\"\n",
    "pattern = ' '\n",
    "replace = '-'\n",
    "result = re.sub(pattern,replace,string)\n",
    "print(result)"
   ]
  },
  {
   "cell_type": "code",
   "execution_count": 20,
   "id": "62ad975c",
   "metadata": {},
   "outputs": [
    {
     "name": "stdout",
     "output_type": "stream",
     "text": [
      "None\n",
      "<re.Match object; span=(0, 3), match='How'>\n"
     ]
    }
   ],
   "source": [
    "string = 'How are you today?'\n",
    "pattern = '^are'\n",
    "result = re.search(pattern,string)\n",
    "print(result)\n",
    "\n",
    "pattern= 'How'\n",
    "result = re.search(pattern,string)\n",
    "print(result)"
   ]
  },
  {
   "cell_type": "markdown",
   "id": "12174de6",
   "metadata": {},
   "source": [
    "## Specify Pattern using RegEx"
   ]
  },
  {
   "cell_type": "markdown",
   "id": "039040bc",
   "metadata": {},
   "source": [
    "### To specify regular expressions, metacharacters are used. "
   ]
  },
  {
   "cell_type": "markdown",
   "id": "b6024fc9",
   "metadata": {},
   "source": [
    "##### Metacharacters: \n",
    "##### [ ]"
   ]
  },
  {
   "cell_type": "code",
   "execution_count": 25,
   "id": "b1e083b9",
   "metadata": {},
   "outputs": [
    {
     "name": "stdout",
     "output_type": "stream",
     "text": [
      "<re.Match object; span=(1, 2), match='4'>\n"
     ]
    }
   ],
   "source": [
    "str = 'h4ello'\n",
    "pattern = '[1-5]'\n",
    "result = re.search(pattern,str)\n",
    "print(result)"
   ]
  },
  {
   "cell_type": "markdown",
   "id": "0319bb66",
   "metadata": {},
   "source": [
    "##### ^Carat"
   ]
  },
  {
   "cell_type": "markdown",
   "id": "f23fe0ab",
   "metadata": {},
   "source": [
    "#### +-Plus"
   ]
  },
  {
   "cell_type": "markdown",
   "id": "e46850ed",
   "metadata": {},
   "source": [
    "##### $"
   ]
  },
  {
   "cell_type": "markdown",
   "id": "56f39620",
   "metadata": {},
   "source": [
    "# Character   Description \n",
    "##  \\d      ->     A Digit\n",
    "##  \\w      ->    Alphanumeric\n",
    "##  \\s       ->    White Space\n",
    "##  \\D       ->    A Non Digit\n",
    "##  \\W      ->    Non-Aplhanumeric\n",
    "##  \\S       ->    Non-Whitespace\n"
   ]
  },
  {
   "cell_type": "code",
   "execution_count": 29,
   "id": "a6461f24",
   "metadata": {},
   "outputs": [],
   "source": [
    "import re\n",
    "text = \"My phone number is 123-456-7890\""
   ]
  },
  {
   "cell_type": "code",
   "execution_count": 32,
   "id": "3c02bd1e",
   "metadata": {},
   "outputs": [
    {
     "data": {
      "text/plain": [
       "<re.Match object; span=(19, 31), match='123-456-7890'>"
      ]
     },
     "execution_count": 32,
     "metadata": {},
     "output_type": "execute_result"
    }
   ],
   "source": [
    "phone = re.search(r'\\d\\d\\d-\\d\\d\\d-\\d\\d\\d\\d',text)\n",
    "phone"
   ]
  },
  {
   "cell_type": "code",
   "execution_count": 31,
   "id": "d301470a",
   "metadata": {},
   "outputs": [
    {
     "data": {
      "text/plain": [
       "'123-456-7890'"
      ]
     },
     "execution_count": 31,
     "metadata": {},
     "output_type": "execute_result"
    }
   ],
   "source": [
    "phone.group()"
   ]
  },
  {
   "cell_type": "markdown",
   "id": "cfbb1faf",
   "metadata": {},
   "source": [
    "# QUANTIFIERS"
   ]
  },
  {
   "cell_type": "markdown",
   "id": "5f153cac",
   "metadata": {},
   "source": [
    "# Character   |    Description\n",
    "\n",
    "##   +       ->      Occurs one or more times\n",
    "##  {3}      ->     Occurs exactly 3 times\n",
    "##  {2,4}   ->     Occurs 2 to 4 times\n",
    "##  {3,}     ->     Occurs 3 or more times\n",
    "##  \\*        ->     Occurs zero or more times\n",
    "##  ?        ->     Once or None"
   ]
  },
  {
   "cell_type": "code",
   "execution_count": 35,
   "id": "4fc1c189",
   "metadata": {},
   "outputs": [
    {
     "data": {
      "text/plain": [
       "<re.Match object; span=(19, 31), match='123-456-7890'>"
      ]
     },
     "execution_count": 35,
     "metadata": {},
     "output_type": "execute_result"
    }
   ],
   "source": [
    "re.search(r'\\d{3}-\\d{3}-\\d{4}', text)"
   ]
  },
  {
   "cell_type": "code",
   "execution_count": 36,
   "id": "ee2626a9",
   "metadata": {},
   "outputs": [
    {
     "data": {
      "text/plain": [
       "'123-456-7890'"
      ]
     },
     "execution_count": 36,
     "metadata": {},
     "output_type": "execute_result"
    }
   ],
   "source": [
    "phone.group()"
   ]
  },
  {
   "cell_type": "markdown",
   "id": "f17d898d",
   "metadata": {},
   "source": [
    "## GROUPS"
   ]
  },
  {
   "cell_type": "code",
   "execution_count": 37,
   "id": "b99b159f",
   "metadata": {},
   "outputs": [],
   "source": [
    "phone_pattern = re.compile(r'(\\d{3})-(\\d{3})-(\\d{4})')"
   ]
  },
  {
   "cell_type": "code",
   "execution_count": 38,
   "id": "f3e80051",
   "metadata": {},
   "outputs": [
    {
     "data": {
      "text/plain": [
       "<re.Match object; span=(19, 31), match='123-456-7890'>"
      ]
     },
     "execution_count": 38,
     "metadata": {},
     "output_type": "execute_result"
    }
   ],
   "source": [
    "results  = re.search(phone_pattern,text)\n",
    "results"
   ]
  },
  {
   "cell_type": "code",
   "execution_count": 39,
   "id": "738ab062",
   "metadata": {},
   "outputs": [
    {
     "data": {
      "text/plain": [
       "'123-456-7890'"
      ]
     },
     "execution_count": 39,
     "metadata": {},
     "output_type": "execute_result"
    }
   ],
   "source": [
    "# The Entire Result\n",
    "results.group()"
   ]
  },
  {
   "cell_type": "code",
   "execution_count": 41,
   "id": "1cbbe1f9",
   "metadata": {},
   "outputs": [
    {
     "data": {
      "text/plain": [
       "'123'"
      ]
     },
     "execution_count": 41,
     "metadata": {},
     "output_type": "execute_result"
    }
   ],
   "source": [
    "results.group(1) #will give us the first group of the pattern "
   ]
  },
  {
   "cell_type": "markdown",
   "id": "084429ef",
   "metadata": {},
   "source": []
  },
  {
   "cell_type": "code",
   "execution_count": null,
   "id": "1118098e",
   "metadata": {},
   "outputs": [],
   "source": []
  }
 ],
 "metadata": {
  "kernelspec": {
   "display_name": "Python 3 (ipykernel)",
   "language": "python",
   "name": "python3"
  },
  "language_info": {
   "codemirror_mode": {
    "name": "ipython",
    "version": 3
   },
   "file_extension": ".py",
   "mimetype": "text/x-python",
   "name": "python",
   "nbconvert_exporter": "python",
   "pygments_lexer": "ipython3",
   "version": "3.9.12"
  }
 },
 "nbformat": 4,
 "nbformat_minor": 5
}
