{
 "cells": [
  {
   "cell_type": "markdown",
   "id": "83f5853b",
   "metadata": {},
   "source": [
    "# Lab-08  Write a program to differentiate stemming and lemmatizing words."
   ]
  },
  {
   "cell_type": "markdown",
   "id": "8193f9d6",
   "metadata": {},
   "source": [
    "## Tushar Kumar\n",
    "## 22122056\n",
    "## 3MSCDSA"
   ]
  },
  {
   "cell_type": "markdown",
   "id": "b9d22dab",
   "metadata": {},
   "source": [
    "__Importing the necessary libraries.__"
   ]
  },
  {
   "cell_type": "code",
   "execution_count": 27,
   "id": "387364ba",
   "metadata": {},
   "outputs": [
    {
     "name": "stderr",
     "output_type": "stream",
     "text": [
      "[nltk_data] Downloading package punkt to\n",
      "[nltk_data]     C:\\Users\\tkuma\\AppData\\Roaming\\nltk_data...\n",
      "[nltk_data]   Package punkt is already up-to-date!\n",
      "[nltk_data] Downloading package wordnet to\n",
      "[nltk_data]     C:\\Users\\tkuma\\AppData\\Roaming\\nltk_data...\n",
      "[nltk_data]   Package wordnet is already up-to-date!\n"
     ]
    },
    {
     "data": {
      "text/plain": [
       "True"
      ]
     },
     "execution_count": 27,
     "metadata": {},
     "output_type": "execute_result"
    }
   ],
   "source": [
    "import pandas as pd\n",
    "import nltk\n",
    "from nltk.stem import PorterStemmer\n",
    "from nltk.stem import WordNetLemmatizer\n",
    "\n",
    "nltk.download('punkt')\n",
    "nltk.download('wordnet')"
   ]
  },
  {
   "cell_type": "markdown",
   "id": "9112093f",
   "metadata": {},
   "source": [
    "__Creating a list of all the headlines scrapped from the internet.__"
   ]
  },
  {
   "cell_type": "code",
   "execution_count": 24,
   "id": "a55d8c17",
   "metadata": {},
   "outputs": [],
   "source": [
    "headlines = [\"Indian hacker arrested in US for stealing Rs 1.25 crore from elderly woman\",\n",
    "\"Instagram will soon have polls within comment section; Meta CEO Mark Zuckerberg confirms new feature\",\n",
    "\"Elon Musk loses $16.1 billion as Tesla shares tumble on weak Q3 performance\",\n",
    "\"As Google pushes deeper into AI, publishers see fresh challenges\",\n",
    "\"Google to introduce AI-powered overviews for over 100 government schemes in English and Hindi\",\n",
    "\"Paytm CEO Vijay Shekhar Sharma shares video of new ‘incredibly powerful’, ‘risky’ AI technology\",\n",
    "\"Apple working on billion-dollar plan to get AI in iPhone via iOS, Siri, other apps\",\n",
    "\"ChatGPT in Cars: DS Automobiles announces AI integration in its cars\",\n",
    "\"Google to manufacture Pixel 8 smartphone in India\",\n",
    "\"Netflix to hike content spend to $17 billion in 2024\"]"
   ]
  },
  {
   "cell_type": "markdown",
   "id": "fd8b0423",
   "metadata": {},
   "source": [
    "__Initialising Stemmer and Lemmatizer__"
   ]
  },
  {
   "cell_type": "code",
   "execution_count": 25,
   "id": "cbd5e9ad",
   "metadata": {},
   "outputs": [],
   "source": [
    "stemmer = PorterStemmer()\n",
    "lemmatizer = WordNetLemmatizer()"
   ]
  },
  {
   "cell_type": "markdown",
   "id": "a4864e71",
   "metadata": {},
   "source": [
    "__Initializing empty lists for each column__"
   ]
  },
  {
   "cell_type": "code",
   "execution_count": 28,
   "id": "d1baed95",
   "metadata": {},
   "outputs": [],
   "source": [
    "original = []\n",
    "stemmed = []\n",
    "lemmatized = []"
   ]
  },
  {
   "cell_type": "markdown",
   "id": "315d85d3",
   "metadata": {},
   "source": [
    "__Populate the lists with original, stemmed, and lemmatized versions__"
   ]
  },
  {
   "cell_type": "code",
   "execution_count": 29,
   "id": "8472675b",
   "metadata": {},
   "outputs": [],
   "source": [
    "for headline in headlines:\n",
    "    words = nltk.word_tokenize(headline)\n",
    "    stemmed_words = [stemmer.stem(word) for word in words]\n",
    "    lemmatized_words = [lemmatizer.lemmatize(word) for word in words]\n",
    "    \n",
    "    original.append(headline)\n",
    "    stemmed.append(' '.join(stemmed_words))\n",
    "    lemmatized.append(' '.join(lemmatized_words))"
   ]
  },
  {
   "cell_type": "markdown",
   "id": "7a21591a",
   "metadata": {},
   "source": [
    "__Creating a DataFrame__"
   ]
  },
  {
   "cell_type": "code",
   "execution_count": 30,
   "id": "a146b7c1",
   "metadata": {},
   "outputs": [],
   "source": [
    "df = pd.DataFrame({'Original': original, 'Stemmed': stemmed, 'Lemmatized': lemmatized})"
   ]
  },
  {
   "cell_type": "markdown",
   "id": "64871c57",
   "metadata": {},
   "source": [
    "__Print the df__"
   ]
  },
  {
   "cell_type": "code",
   "execution_count": 31,
   "id": "5a6e7b26",
   "metadata": {},
   "outputs": [
    {
     "name": "stdout",
     "output_type": "stream",
     "text": [
      "                                            Original  \\\n",
      "0  Indian hacker arrested in US for stealing Rs 1...   \n",
      "1  Instagram will soon have polls within comment ...   \n",
      "2  Elon Musk loses $16.1 billion as Tesla shares ...   \n",
      "3  As Google pushes deeper into AI, publishers se...   \n",
      "4  Google to introduce AI-powered overviews for o...   \n",
      "5  Paytm CEO Vijay Shekhar Sharma shares video of...   \n",
      "6  Apple working on billion-dollar plan to get AI...   \n",
      "7  ChatGPT in Cars: DS Automobiles announces AI i...   \n",
      "8  Google to manufacture Pixel 8 smartphone in India   \n",
      "9  Netflix to hike content spend to $17 billion i...   \n",
      "\n",
      "                                             Stemmed  \\\n",
      "0  indian hacker arrest in us for steal rs 1.25 c...   \n",
      "1  instagram will soon have poll within comment s...   \n",
      "2  elon musk lose $ 16.1 billion as tesla share t...   \n",
      "3  as googl push deeper into ai , publish see fre...   \n",
      "4  googl to introduc ai-pow overview for over 100...   \n",
      "5  paytm ceo vijay shekhar sharma share video of ...   \n",
      "6  appl work on billion-dollar plan to get ai in ...   \n",
      "7  chatgpt in car : ds automobil announc ai integ...   \n",
      "8     googl to manufactur pixel 8 smartphon in india   \n",
      "9  netflix to hike content spend to $ 17 billion ...   \n",
      "\n",
      "                                          Lemmatized  \n",
      "0  Indian hacker arrested in US for stealing Rs 1...  \n",
      "1  Instagram will soon have poll within comment s...  \n",
      "2  Elon Musk loses $ 16.1 billion a Tesla share t...  \n",
      "3  As Google push deeper into AI , publisher see ...  \n",
      "4  Google to introduce AI-powered overview for ov...  \n",
      "5  Paytm CEO Vijay Shekhar Sharma share video of ...  \n",
      "6  Apple working on billion-dollar plan to get AI...  \n",
      "7  ChatGPT in Cars : DS Automobiles announces AI ...  \n",
      "8  Google to manufacture Pixel 8 smartphone in India  \n",
      "9  Netflix to hike content spend to $ 17 billion ...  \n"
     ]
    }
   ],
   "source": [
    "print(df)"
   ]
  },
  {
   "cell_type": "code",
   "execution_count": 33,
   "id": "4ce36105",
   "metadata": {},
   "outputs": [
    {
     "data": {
      "text/html": [
       "<div>\n",
       "<style scoped>\n",
       "    .dataframe tbody tr th:only-of-type {\n",
       "        vertical-align: middle;\n",
       "    }\n",
       "\n",
       "    .dataframe tbody tr th {\n",
       "        vertical-align: top;\n",
       "    }\n",
       "\n",
       "    .dataframe thead th {\n",
       "        text-align: right;\n",
       "    }\n",
       "</style>\n",
       "<table border=\"1\" class=\"dataframe\">\n",
       "  <thead>\n",
       "    <tr style=\"text-align: right;\">\n",
       "      <th></th>\n",
       "      <th>Original</th>\n",
       "      <th>Stemmed</th>\n",
       "      <th>Lemmatized</th>\n",
       "    </tr>\n",
       "  </thead>\n",
       "  <tbody>\n",
       "    <tr>\n",
       "      <th>0</th>\n",
       "      <td>Indian hacker arrested in US for stealing Rs 1...</td>\n",
       "      <td>indian hacker arrest in us for steal rs 1.25 c...</td>\n",
       "      <td>Indian hacker arrested in US for stealing Rs 1...</td>\n",
       "    </tr>\n",
       "    <tr>\n",
       "      <th>1</th>\n",
       "      <td>Instagram will soon have polls within comment ...</td>\n",
       "      <td>instagram will soon have poll within comment s...</td>\n",
       "      <td>Instagram will soon have poll within comment s...</td>\n",
       "    </tr>\n",
       "    <tr>\n",
       "      <th>2</th>\n",
       "      <td>Elon Musk loses $16.1 billion as Tesla shares ...</td>\n",
       "      <td>elon musk lose $ 16.1 billion as tesla share t...</td>\n",
       "      <td>Elon Musk loses $ 16.1 billion a Tesla share t...</td>\n",
       "    </tr>\n",
       "    <tr>\n",
       "      <th>3</th>\n",
       "      <td>As Google pushes deeper into AI, publishers se...</td>\n",
       "      <td>as googl push deeper into ai , publish see fre...</td>\n",
       "      <td>As Google push deeper into AI , publisher see ...</td>\n",
       "    </tr>\n",
       "    <tr>\n",
       "      <th>4</th>\n",
       "      <td>Google to introduce AI-powered overviews for o...</td>\n",
       "      <td>googl to introduc ai-pow overview for over 100...</td>\n",
       "      <td>Google to introduce AI-powered overview for ov...</td>\n",
       "    </tr>\n",
       "    <tr>\n",
       "      <th>5</th>\n",
       "      <td>Paytm CEO Vijay Shekhar Sharma shares video of...</td>\n",
       "      <td>paytm ceo vijay shekhar sharma share video of ...</td>\n",
       "      <td>Paytm CEO Vijay Shekhar Sharma share video of ...</td>\n",
       "    </tr>\n",
       "    <tr>\n",
       "      <th>6</th>\n",
       "      <td>Apple working on billion-dollar plan to get AI...</td>\n",
       "      <td>appl work on billion-dollar plan to get ai in ...</td>\n",
       "      <td>Apple working on billion-dollar plan to get AI...</td>\n",
       "    </tr>\n",
       "    <tr>\n",
       "      <th>7</th>\n",
       "      <td>ChatGPT in Cars: DS Automobiles announces AI i...</td>\n",
       "      <td>chatgpt in car : ds automobil announc ai integ...</td>\n",
       "      <td>ChatGPT in Cars : DS Automobiles announces AI ...</td>\n",
       "    </tr>\n",
       "    <tr>\n",
       "      <th>8</th>\n",
       "      <td>Google to manufacture Pixel 8 smartphone in India</td>\n",
       "      <td>googl to manufactur pixel 8 smartphon in india</td>\n",
       "      <td>Google to manufacture Pixel 8 smartphone in India</td>\n",
       "    </tr>\n",
       "    <tr>\n",
       "      <th>9</th>\n",
       "      <td>Netflix to hike content spend to $17 billion i...</td>\n",
       "      <td>netflix to hike content spend to $ 17 billion ...</td>\n",
       "      <td>Netflix to hike content spend to $ 17 billion ...</td>\n",
       "    </tr>\n",
       "  </tbody>\n",
       "</table>\n",
       "</div>"
      ],
      "text/plain": [
       "                                            Original  \\\n",
       "0  Indian hacker arrested in US for stealing Rs 1...   \n",
       "1  Instagram will soon have polls within comment ...   \n",
       "2  Elon Musk loses $16.1 billion as Tesla shares ...   \n",
       "3  As Google pushes deeper into AI, publishers se...   \n",
       "4  Google to introduce AI-powered overviews for o...   \n",
       "5  Paytm CEO Vijay Shekhar Sharma shares video of...   \n",
       "6  Apple working on billion-dollar plan to get AI...   \n",
       "7  ChatGPT in Cars: DS Automobiles announces AI i...   \n",
       "8  Google to manufacture Pixel 8 smartphone in India   \n",
       "9  Netflix to hike content spend to $17 billion i...   \n",
       "\n",
       "                                             Stemmed  \\\n",
       "0  indian hacker arrest in us for steal rs 1.25 c...   \n",
       "1  instagram will soon have poll within comment s...   \n",
       "2  elon musk lose $ 16.1 billion as tesla share t...   \n",
       "3  as googl push deeper into ai , publish see fre...   \n",
       "4  googl to introduc ai-pow overview for over 100...   \n",
       "5  paytm ceo vijay shekhar sharma share video of ...   \n",
       "6  appl work on billion-dollar plan to get ai in ...   \n",
       "7  chatgpt in car : ds automobil announc ai integ...   \n",
       "8     googl to manufactur pixel 8 smartphon in india   \n",
       "9  netflix to hike content spend to $ 17 billion ...   \n",
       "\n",
       "                                          Lemmatized  \n",
       "0  Indian hacker arrested in US for stealing Rs 1...  \n",
       "1  Instagram will soon have poll within comment s...  \n",
       "2  Elon Musk loses $ 16.1 billion a Tesla share t...  \n",
       "3  As Google push deeper into AI , publisher see ...  \n",
       "4  Google to introduce AI-powered overview for ov...  \n",
       "5  Paytm CEO Vijay Shekhar Sharma share video of ...  \n",
       "6  Apple working on billion-dollar plan to get AI...  \n",
       "7  ChatGPT in Cars : DS Automobiles announces AI ...  \n",
       "8  Google to manufacture Pixel 8 smartphone in India  \n",
       "9  Netflix to hike content spend to $ 17 billion ...  "
      ]
     },
     "execution_count": 33,
     "metadata": {},
     "output_type": "execute_result"
    }
   ],
   "source": [
    "df"
   ]
  },
  {
   "cell_type": "markdown",
   "id": "ae583584",
   "metadata": {},
   "source": [
    "Discussion:\n",
    "\n",
    "Stemming vs. Lemmatization:\n",
    "\n",
    "Stemming reduces words to their root or base form, often by removing prefixes or suffixes. In contrast, lemmatization reduces words to their dictionary form (lemma), considering the word's context and part of speech. Stemming might produce words that are not actual words, whereas lemmatization results in real words. Stemming is generally faster but may be less accurate, while lemmatization is more accurate but computationally more intensive. Impact on Sentiment Analysis:\n",
    "\n",
    "Stemming may lead to the loss of some context, making it challenging to differentiate between words with different meanings. For example, \"disrupting\" might be stemmed to \"disrupt,\" which could also be a noun. Lemmatization retains the base form, preserving more of the original meaning and context. This can be crucial for sentiment analysis, where subtle differences in meaning can impact sentiment scores. Impact on Key Term Extraction:\n",
    "\n",
    "For key term extraction, lemmatization is generally preferred. It ensures that key terms are represented in their most meaningful form. Stemming might generate multiple variations of the same term, potentially diluting the importance of key terms. In summary, the choice between stemming and lemmatization depends on the specific NLP task. For sentiment analysis, where subtle nuances are essential, lemmatization is more appropriate. In contrast, for tasks like information retrieval or search, stemming can be faster and sufficient. Key term extraction is typically more accurate when using lemmatization, as it ensures that the extracted terms are in their most meaningful fo"
   ]
  }
 ],
 "metadata": {
  "kernelspec": {
   "display_name": "Python 3 (ipykernel)",
   "language": "python",
   "name": "python3"
  },
  "language_info": {
   "codemirror_mode": {
    "name": "ipython",
    "version": 3
   },
   "file_extension": ".py",
   "mimetype": "text/x-python",
   "name": "python",
   "nbconvert_exporter": "python",
   "pygments_lexer": "ipython3",
   "version": "3.9.12"
  }
 },
 "nbformat": 4,
 "nbformat_minor": 5
}
