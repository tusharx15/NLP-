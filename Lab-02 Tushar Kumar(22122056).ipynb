{
 "cells": [
  {
   "cell_type": "markdown",
   "id": "b4bfc541",
   "metadata": {},
   "source": [
    "# LAB - 02 : Write a program to count word frequency and to remove stop word.\n",
    "# Tushar Kumar\n",
    "# 22122056\n",
    "# 3MSCDSA\n"
   ]
  },
  {
   "cell_type": "code",
   "execution_count": 32,
   "id": "43a8493c",
   "metadata": {},
   "outputs": [
    {
     "name": "stdout",
     "output_type": "stream",
     "text": [
      "Requirement already satisfied: PyMuPDF in c:\\users\\tkuma\\anaconda3\\lib\\site-packages (1.23.3)\n",
      "Requirement already satisfied: PyMuPDFb==1.23.3 in c:\\users\\tkuma\\anaconda3\\lib\\site-packages (from PyMuPDF) (1.23.3)\n"
     ]
    }
   ],
   "source": [
    "!pip install PyMuPDF"
   ]
  },
  {
   "cell_type": "code",
   "execution_count": 33,
   "id": "739e9979",
   "metadata": {},
   "outputs": [],
   "source": [
    "import fitz  # PyMuPDF This library allows you to work with PDF documents in Python. It provides functions for opening, reading, and manipulating PDF files.\n",
    "\n",
    "def extract_text_from_pdf(pdf_path):\n",
    "    doc = fitz.open(pdf_path)\n",
    "    text = \"\"\n",
    "    for page in doc:\n",
    "        text += page.get_text()\n",
    "    return text\n",
    "\n",
    "pdf_text = extract_text_from_pdf('The Impact of Artificial Intelligence on Society.pdf')\n"
   ]
  },
  {
   "cell_type": "code",
   "execution_count": 34,
   "id": "8d52be51",
   "metadata": {},
   "outputs": [
    {
     "data": {
      "text/plain": [
       "\"The Impact of Artificial Intelligence on Society \\n \\nArtificial Intelligence (AI) has emerged as one of the most transformative technologies of the 21st \\ncentury, with profound implications for society. As AI continues to advance and permeate various \\naspects of our lives, it is essential to examine its impact on society, both the opportunities it presents \\nand the challenges it poses. This 2000-word essay explores the multifaceted influence of AI on \\nsociety, covering topics such as employment, healthcare, ethics, education, and more. \\n \\nAI in the Workplace \\n \\nThe integration of AI into the workplace is reshaping industries and changing the nature of work. \\nAutomation powered by AI has the potential to boost productivity, reduce repetitive tasks, and \\nincrease efficiency. However, concerns about job displacement loom large. Many fear that AI-driven \\nautomation may lead to the loss of traditional jobs, particularly in industries like manufacturing and \\ncustomer service. \\n \\nTo mitigate these concerns, policymakers and businesses must invest in reskilling and upskilling \\nprograms to prepare the workforce for the jobs of the future. AI can be a valuable tool in enhancing \\nthe skills of employees and streamlining various business processes. In this way, AI can be seen as a \\ncomplement to human workers rather than a replacement. \\n \\nAI in Healthcare \\n \\nAI is revolutionizing healthcare in numerous ways. Medical imaging, for example, benefits from AI \\nalgorithms that can analyze vast amounts of data to detect abnormalities and assist in diagnoses. \\nChatbots and virtual nurses powered by AI are also helping patients with routine questions and \\nmedication reminders, thus reducing the burden on healthcare professionals. \\n \\nIn drug discovery and development, AI is accelerating the process by analyzing complex biological \\ndata and identifying potential drug candidates more quickly. Additionally, predictive analytics can \\nhelp healthcare providers anticipate patient needs, optimize resource allocation, and improve patient \\noutcomes. \\n \\nEthical Considerations \\n \\nAs AI becomes increasingly integrated into our lives, ethical concerns arise. One of the most pressing \\nissues is bias in AI systems. Machine learning algorithms learn from data, and if the data used for \\ntraining is biased, the AI system can perpetuate and even amplify existing biases. This can result in \\ndiscriminatory outcomes in areas like hiring, lending, and criminal justice. \\n \\nTo address this, there is a growing call for ethical AI development and deployment. This includes \\nensuring diverse and representative datasets, transparency in AI decision-making processes, and \\nongoing monitoring and auditing of AI systems for bias. \\n \\nAI and Education \\n \\nAI is transforming education by personalizing learning experiences. Adaptive learning platforms use \\nAI to tailor educational content to individual students, allowing them to progress at their own pace. \\nFurthermore, AI can analyze student performance data to identify areas where additional support is \\nneeded, enabling educators to provide targeted interventions. \\n \\nHowever, the integration of AI in education also raises concerns about data privacy and surveillance. \\nThe collection of student data for AI-driven learning platforms must be done with strict adherence to \\nprivacy regulations to protect sensitive information. \\n \\nAI in Transportation \\n \\nThe transportation industry is undergoing a major transformation thanks to AI. Self-driving cars and \\ntrucks, enabled by AI algorithms and sensors, have the potential to make transportation safer and \\nmore efficient. They can reduce accidents caused by human error and optimize traffic flow. \\n \\nNonetheless, the adoption of autonomous vehicles also raises questions about liability, regulation, \\nand the impact on jobs in the transportation sector. Addressing these issues is crucial to ensure the \\nsafe and responsible deployment of AI in transportation. \\n \\nAI and Creativity \\n \\nAI is blurring the lines between human and machine creativity. Generative AI models, such as GPT-3, \\nare capable of producing human-like text, art, and music. This has both creative and commercial \\nimplications. On one hand, AI can assist artists, writers, and musicians in their work, providing new \\nsources of inspiration and collaboration. On the other hand, it raises questions about authorship and \\nthe authenticity of creative works produced by AI. \\n \\nAI and Privacy \\n \\nThe proliferation of AI-driven technologies, such as facial recognition and predictive analytics, poses \\nsignificant challenges to personal privacy. Facial recognition technology, for example, can be used for \\nsurveillance purposes, raising concerns about mass surveillance and the potential for abuse by \\ngovernments and corporations. \\n \\nSafeguarding individual privacy in the age of AI requires the development of robust privacy \\nregulations and technologies that prioritize data protection. It also involves a broader societal \\nconversation about the balance between security and privacy. \\n \\nAI in Entertainment \\n \\nAI is transforming the entertainment industry in various ways. Streaming platforms use AI algorithms \\nto recommend content to users based on their viewing history and preferences. AI-generated \\ncontent, such as virtual influencers and deepfake videos, is also gaining popularity. \\n \\nWhile AI can enhance the entertainment experience, it also poses challenges related to the \\nauthenticity of content and the potential for misinformation. It is essential for consumers to be \\naware of AI's role in shaping their entertainment choices and to critically evaluate the content they \\nconsume. \\n \\nAI and Environmental Sustainability \\n \\nAI has the potential to contribute significantly to environmental sustainability efforts. It can optimize \\nenergy consumption in buildings, improve the efficiency of transportation systems, and enhance the \\nmonitoring and conservation of natural resources. AI-powered models can also help predict and \\nmitigate the effects of climate change. \\n \\nHowever, the environmental impact of AI itself, particularly the energy consumption of large data \\ncenters, is a concern. Developing energy-efficient AI technologies and sustainable computing \\npractices is crucial to ensure that AI contributes positively to environmental sustainability. \\n \\nConclusion \\n \\nArtificial Intelligence is reshaping society in profound ways, with both benefits and challenges. As AI \\ncontinues to advance, it is crucial for policymakers, businesses, and individuals to navigate the \\nethical, legal, and societal implications of this technology. Ensuring that AI is developed and deployed \\nresponsibly, with a focus on fairness, transparency, and privacy, will be essential to harnessing its full \\npotential for the betterment of society. \\n \\nIn conclusion, the impact of AI on society is a complex and multifaceted phenomenon. It has the \\npower to improve efficiency, enhance healthcare, and drive innovation, but it also poses ethical, \\nprivacy, and economic challenges that must be carefully addressed. The future of AI in society will \\ndepend on our ability to strike a balance between harnessing its potential and safeguarding against \\nits risks. \\n\""
      ]
     },
     "execution_count": 34,
     "metadata": {},
     "output_type": "execute_result"
    }
   ],
   "source": [
    "pdf_text"
   ]
  },
  {
   "cell_type": "code",
   "execution_count": 35,
   "id": "5cfc09aa",
   "metadata": {},
   "outputs": [
    {
     "name": "stdout",
     "output_type": "stream",
     "text": [
      "Requirement already satisfied: nltk in c:\\users\\tkuma\\anaconda3\\lib\\site-packages (3.7)\n",
      "Requirement already satisfied: click in c:\\users\\tkuma\\anaconda3\\lib\\site-packages (from nltk) (8.0.4)\n",
      "Requirement already satisfied: joblib in c:\\users\\tkuma\\anaconda3\\lib\\site-packages (from nltk) (1.2.0)\n",
      "Requirement already satisfied: tqdm in c:\\users\\tkuma\\anaconda3\\lib\\site-packages (from nltk) (4.64.0)\n",
      "Requirement already satisfied: regex>=2021.8.3 in c:\\users\\tkuma\\anaconda3\\lib\\site-packages (from nltk) (2022.3.15)\n",
      "Requirement already satisfied: colorama in c:\\users\\tkuma\\anaconda3\\lib\\site-packages (from click->nltk) (0.4.6)\n"
     ]
    }
   ],
   "source": [
    "!pip install nltk"
   ]
  },
  {
   "cell_type": "code",
   "execution_count": 36,
   "id": "2ec603d6",
   "metadata": {},
   "outputs": [
    {
     "name": "stderr",
     "output_type": "stream",
     "text": [
      "[nltk_data] Downloading package punkt to\n",
      "[nltk_data]     C:\\Users\\tkuma\\AppData\\Roaming\\nltk_data...\n",
      "[nltk_data]   Package punkt is already up-to-date!\n",
      "[nltk_data] Downloading package stopwords to\n",
      "[nltk_data]     C:\\Users\\tkuma\\AppData\\Roaming\\nltk_data...\n",
      "[nltk_data]   Package stopwords is already up-to-date!\n"
     ]
    }
   ],
   "source": [
    "import nltk\n",
    "from nltk.tokenize import word_tokenize    # This module provides a function for tokenizing (splitting) text into words or tokens.\n",
    "from nltk.corpus import stopwords   # This module provides a list of common stop words in English, which are words that are often filtered out during text analysis\n",
    "import string   # This module provides a set of string-related functions, including punctuation characters.\n",
    "\n",
    "nltk.download('punkt')  # This resource is necessary for tokenization. It includes the data required for NLTK's word tokenizer to work.\n",
    "nltk.download('stopwords')  #  This resource contains a list of common stop words in English, which will be used to filter out unnecessary words during preprocessing.\n",
    "\n",
    "\n",
    "# Tokenization is performed using word_tokenize(text.lower()). The input text is first converted to lowercase using .lower(). Then, NLTK's word_tokenize function is applied to split the text into individual words or tokens. This step creates a list of tokens.\n",
    "def preprocess_text(text):\n",
    "    # Tokenization\n",
    "    tokens = word_tokenize(text.lower())\n",
    "\n",
    "    # Remove punctuation and numbers\n",
    "    tokens = [word for word in tokens if word.isalpha()]\n",
    "\n",
    "    # Remove stopwords\n",
    "    stop_words = set(stopwords.words('english'))\n",
    "    tokens = [word for word in tokens if word not in stop_words]\n",
    "\n",
    "    return tokens\n",
    "\n",
    "preprocessed_tokens = preprocess_text(pdf_text)\n"
   ]
  },
  {
   "cell_type": "code",
   "execution_count": 37,
   "id": "2809f2e0",
   "metadata": {},
   "outputs": [],
   "source": [
    "from collections import Counter # class is a built-in Python data structure that allows you to count the frequency of elements in a collection, such as a list or iterable.\n",
    "\n",
    "word_freq = Counter(preprocessed_tokens)  \n"
   ]
  },
  {
   "cell_type": "code",
   "execution_count": 38,
   "id": "64c19deb",
   "metadata": {},
   "outputs": [
    {
     "name": "stdout",
     "output_type": "stream",
     "text": [
      "Requirement already satisfied: matplotlib in c:\\users\\tkuma\\anaconda3\\lib\\site-packages (3.5.1)\n",
      "Requirement already satisfied: packaging>=20.0 in c:\\users\\tkuma\\anaconda3\\lib\\site-packages (from matplotlib) (21.3)\n",
      "Requirement already satisfied: pillow>=6.2.0 in c:\\users\\tkuma\\anaconda3\\lib\\site-packages (from matplotlib) (9.5.0)\n",
      "Requirement already satisfied: python-dateutil>=2.7 in c:\\users\\tkuma\\anaconda3\\lib\\site-packages (from matplotlib) (2.8.2)\n",
      "Requirement already satisfied: cycler>=0.10 in c:\\users\\tkuma\\anaconda3\\lib\\site-packages (from matplotlib) (0.11.0)\n",
      "Requirement already satisfied: kiwisolver>=1.0.1 in c:\\users\\tkuma\\anaconda3\\lib\\site-packages (from matplotlib) (1.3.2)\n",
      "Requirement already satisfied: fonttools>=4.22.0 in c:\\users\\tkuma\\anaconda3\\lib\\site-packages (from matplotlib) (4.25.0)\n",
      "Requirement already satisfied: numpy>=1.17 in c:\\users\\tkuma\\anaconda3\\lib\\site-packages (from matplotlib) (1.22.4)\n",
      "Requirement already satisfied: pyparsing>=2.2.1 in c:\\users\\tkuma\\anaconda3\\lib\\site-packages (from matplotlib) (3.0.4)\n",
      "Requirement already satisfied: six>=1.5 in c:\\users\\tkuma\\anaconda3\\lib\\site-packages (from python-dateutil>=2.7->matplotlib) (1.16.0)\n"
     ]
    }
   ],
   "source": [
    "!pip install matplotlib"
   ]
  },
  {
   "cell_type": "code",
   "execution_count": 39,
   "id": "ab904160",
   "metadata": {},
   "outputs": [
    {
     "data": {
      "image/png": "[encoded data removed]",
      "text/plain": [
       "<Figure size 864x432 with 1 Axes>"
      ]
     },
     "metadata": {
      "needs_background": "light"
     },
     "output_type": "display_data"
    }
   ],
   "source": [
    "# Plotting word frequencies\n",
    "\n",
    "import matplotlib.pyplot as plt\n",
    "\n",
    "def plot_word_frequencies(word_freq):\n",
    "    common_words = word_freq.most_common(10)  # Display the top 10 words\n",
    "\n",
    "    words, frequencies = zip(*common_words)\n",
    "\n",
    "    plt.figure(figsize=(12, 6))\n",
    "    plt.bar(words, frequencies)\n",
    "    plt.xlabel('Words')\n",
    "    plt.ylabel('Frequency')\n",
    "    plt.title('Top 10 Words by Frequency')\n",
    "    plt.xticks(rotation=45)\n",
    "    plt.show()\n",
    "\n",
    "plot_word_frequencies(word_freq)\n"
   ]
  },
  {
   "cell_type": "code",
   "execution_count": 40,
   "id": "7f9ca2f7",
   "metadata": {},
   "outputs": [
    {
     "name": "stdout",
     "output_type": "stream",
     "text": [
      "['impact', 'artificial', 'intelligence', 'society', 'artificial', 'intelligence', 'ai', 'emerged', 'one', 'transformative', 'technologies', 'century', 'profound', 'implications', 'society', 'ai', 'continues', 'advance', 'permeate', 'various', 'aspects', 'lives', 'essential', 'examine', 'impact', 'society', 'opportunities', 'presents', 'challenges', 'poses', 'essay', 'explores', 'multifaceted', 'influence', 'ai', 'society', 'covering', 'topics', 'employment', 'healthcare', 'ethics', 'education', 'ai', 'workplace', 'integration', 'ai', 'workplace', 'reshaping', 'industries', 'changing', 'nature', 'work', 'automation', 'powered', 'ai', 'potential', 'boost', 'productivity', 'reduce', 'repetitive', 'tasks', 'increase', 'efficiency', 'however', 'concerns', 'job', 'displacement', 'loom', 'large', 'many', 'fear', 'automation', 'may', 'lead', 'loss', 'traditional', 'jobs', 'particularly', 'industries', 'like', 'manufacturing', 'customer', 'service', 'mitigate', 'concerns', 'policymakers', 'businesses', 'must', 'invest', 'reskilling', 'upskilling', 'programs', 'prepare', 'workforce', 'jobs', 'future', 'ai', 'valuable', 'tool', 'enhancing', 'skills', 'employees', 'streamlining', 'various', 'business', 'processes', 'way', 'ai', 'seen', 'complement', 'human', 'workers', 'rather', 'replacement', 'ai', 'healthcare', 'ai', 'revolutionizing', 'healthcare', 'numerous', 'ways', 'medical', 'imaging', 'example', 'benefits', 'ai', 'algorithms', 'analyze', 'vast', 'amounts', 'data', 'detect', 'abnormalities', 'assist', 'diagnoses', 'chatbots', 'virtual', 'nurses', 'powered', 'ai', 'also', 'helping', 'patients', 'routine', 'questions', 'medication', 'reminders', 'thus', 'reducing', 'burden', 'healthcare', 'professionals', 'drug', 'discovery', 'development', 'ai', 'accelerating', 'process', 'analyzing', 'complex', 'biological', 'data', 'identifying', 'potential', 'drug', 'candidates', 'quickly', 'additionally', 'predictive', 'analytics', 'help', 'healthcare', 'providers', 'anticipate', 'patient', 'needs', 'optimize', 'resource', 'allocation', 'improve', 'patient', 'outcomes', 'ethical', 'considerations', 'ai', 'becomes', 'increasingly', 'integrated', 'lives', 'ethical', 'concerns', 'arise', 'one', 'pressing', 'issues', 'bias', 'ai', 'systems', 'machine', 'learning', 'algorithms', 'learn', 'data', 'data', 'used', 'training', 'biased', 'ai', 'system', 'perpetuate', 'even', 'amplify', 'existing', 'biases', 'result', 'discriminatory', 'outcomes', 'areas', 'like', 'hiring', 'lending', 'criminal', 'justice', 'address', 'growing', 'call', 'ethical', 'ai', 'development', 'deployment', 'includes', 'ensuring', 'diverse', 'representative', 'datasets', 'transparency', 'ai', 'processes', 'ongoing', 'monitoring', 'auditing', 'ai', 'systems', 'bias', 'ai', 'education', 'ai', 'transforming', 'education', 'personalizing', 'learning', 'experiences', 'adaptive', 'learning', 'platforms', 'use', 'ai', 'tailor', 'educational', 'content', 'individual', 'students', 'allowing', 'progress', 'pace', 'furthermore', 'ai', 'analyze', 'student', 'performance', 'data', 'identify', 'areas', 'additional', 'support', 'needed', 'enabling', 'educators', 'provide', 'targeted', 'interventions', 'however', 'integration', 'ai', 'education', 'also', 'raises', 'concerns', 'data', 'privacy', 'surveillance', 'collection', 'student', 'data', 'learning', 'platforms', 'must', 'done', 'strict', 'adherence', 'privacy', 'regulations', 'protect', 'sensitive', 'information', 'ai', 'transportation', 'transportation', 'industry', 'undergoing', 'major', 'transformation', 'thanks', 'ai', 'cars', 'trucks', 'enabled', 'ai', 'algorithms', 'sensors', 'potential', 'make', 'transportation', 'safer', 'efficient', 'reduce', 'accidents', 'caused', 'human', 'error', 'optimize', 'traffic', 'flow', 'nonetheless', 'adoption', 'autonomous', 'vehicles', 'also', 'raises', 'questions', 'liability', 'regulation', 'impact', 'jobs', 'transportation', 'sector', 'addressing', 'issues', 'crucial', 'ensure', 'safe', 'responsible', 'deployment', 'ai', 'transportation', 'ai', 'creativity', 'ai', 'blurring', 'lines', 'human', 'machine', 'creativity', 'generative', 'ai', 'models', 'capable', 'producing', 'text', 'art', 'music', 'creative', 'commercial', 'implications', 'one', 'hand', 'ai', 'assist', 'artists', 'writers', 'musicians', 'work', 'providing', 'new', 'sources', 'inspiration', 'collaboration', 'hand', 'raises', 'questions', 'authorship', 'authenticity', 'creative', 'works', 'produced', 'ai', 'ai', 'privacy', 'proliferation', 'technologies', 'facial', 'recognition', 'predictive', 'analytics', 'poses', 'significant', 'challenges', 'personal', 'privacy', 'facial', 'recognition', 'technology', 'example', 'used', 'surveillance', 'purposes', 'raising', 'concerns', 'mass', 'surveillance', 'potential', 'abuse', 'governments', 'corporations', 'safeguarding', 'individual', 'privacy', 'age', 'ai', 'requires', 'development', 'robust', 'privacy', 'regulations', 'technologies', 'prioritize', 'data', 'protection', 'also', 'involves', 'broader', 'societal', 'conversation', 'balance', 'security', 'privacy', 'ai', 'entertainment', 'ai', 'transforming', 'entertainment', 'industry', 'various', 'ways', 'streaming', 'platforms', 'use', 'ai', 'algorithms', 'recommend', 'content', 'users', 'based', 'viewing', 'history', 'preferences', 'content', 'virtual', 'influencers', 'deepfake', 'videos', 'also', 'gaining', 'popularity', 'ai', 'enhance', 'entertainment', 'experience', 'also', 'poses', 'challenges', 'related', 'authenticity', 'content', 'potential', 'misinformation', 'essential', 'consumers', 'aware', 'ai', 'role', 'shaping', 'entertainment', 'choices', 'critically', 'evaluate', 'content', 'consume', 'ai', 'environmental', 'sustainability', 'ai', 'potential', 'contribute', 'significantly', 'environmental', 'sustainability', 'efforts', 'optimize', 'energy', 'consumption', 'buildings', 'improve', 'efficiency', 'transportation', 'systems', 'enhance', 'monitoring', 'conservation', 'natural', 'resources', 'models', 'also', 'help', 'predict', 'mitigate', 'effects', 'climate', 'change', 'however', 'environmental', 'impact', 'ai', 'particularly', 'energy', 'consumption', 'large', 'data', 'centers', 'concern', 'developing', 'ai', 'technologies', 'sustainable', 'computing', 'practices', 'crucial', 'ensure', 'ai', 'contributes', 'positively', 'environmental', 'sustainability', 'conclusion', 'artificial', 'intelligence', 'reshaping', 'society', 'profound', 'ways', 'benefits', 'challenges', 'ai', 'continues', 'advance', 'crucial', 'policymakers', 'businesses', 'individuals', 'navigate', 'ethical', 'legal', 'societal', 'implications', 'technology', 'ensuring', 'ai', 'developed', 'deployed', 'responsibly', 'focus', 'fairness', 'transparency', 'privacy', 'essential', 'harnessing', 'full', 'potential', 'betterment', 'society', 'conclusion', 'impact', 'ai', 'society', 'complex', 'multifaceted', 'phenomenon', 'power', 'improve', 'efficiency', 'enhance', 'healthcare', 'drive', 'innovation', 'also', 'poses', 'ethical', 'privacy', 'economic', 'challenges', 'must', 'carefully', 'addressed', 'future', 'ai', 'society', 'depend', 'ability', 'strike', 'balance', 'harnessing', 'potential', 'safeguarding', 'risks']\n"
     ]
    }
   ],
   "source": [
    "print(preprocessed_tokens)"
   ]
  }
 ],
 "metadata": {
  "kernelspec": {
   "display_name": "Python 3 (ipykernel)",
   "language": "python",
   "name": "python3"
  },
  "language_info": {
   "codemirror_mode": {
    "name": "ipython",
    "version": 3
   },
   "file_extension": ".py",
   "mimetype": "text/x-python",
   "name": "python",
   "nbconvert_exporter": "python",
   "pygments_lexer": "ipython3",
   "version": "3.9.12"
  }
 },
 "nbformat": 4,
 "nbformat_minor": 5
}
